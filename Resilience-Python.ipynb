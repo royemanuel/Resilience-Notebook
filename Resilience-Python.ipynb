{
 "cells": [
  {
   "cell_type": "code",
   "execution_count": 1,
   "metadata": {
    "collapsed": false
   },
   "outputs": [
    {
     "data": {
      "application/javascript": [
       "IPython.load_extensions('calico-spell-check', 'calico-document-tools', 'calico-cell-tools');"
      ],
      "text/plain": [
       "<IPython.core.display.Javascript object>"
      ]
     },
     "metadata": {},
     "output_type": "display_data"
    }
   ],
   "source": [
    "%%javascript\n",
    "IPython.load_extensions('calico-spell-check', 'calico-document-tools', 'calico-cell-tools');"
   ]
  },
  {
   "cell_type": "markdown",
   "metadata": {},
   "source": [
    "# 1. Resilience Notebook. This may become the dissertation"
   ]
  },
  {
   "cell_type": "markdown",
   "metadata": {},
   "source": [
    "The general equation for resilience is $$R_e=\\frac{T_i+F \\Delta T_f + R \\Delta T_r }{T_i + \\Delta T_f + \\Delta T_r}$$\n",
    "$T_i$ is the time of the incident. $\\Delta T_f$ is the time elapsed during failure, and the *failure profile F* is $$F = \\frac{\\int^{t_f}_{t_i}fdt}{\\int^{t_f}_{t_i}Qdt}$$. $\\Delta T_r$ is the tiem elapsed during failure, and the *recovery profile R* is $$R = \\frac{\\int^{t_r}_{t_f}rdt}{\\int^{t_r}_{t_f}Qdt}$$."
   ]
  },
  {
   "cell_type": "markdown",
   "metadata": {},
   "source": [
    "## 1.1 Linear Recovery"
   ]
  },
  {
   "cell_type": "markdown",
   "metadata": {
    "collapsed": false
   },
   "source": [
    "The linear recovery anti-resilience equation is $R_e = \\frac{(t_r-t_i)(Q_{100}-Q_f)}{(Q_{100}-Q_f)}$"
   ]
  },
  {
   "cell_type": "code",
   "execution_count": null,
   "metadata": {
    "collapsed": true
   },
   "outputs": [],
   "source": [
    "from bokeh.models import ColumnDataSource\n",
    "from bokeh.plotting import *\n",
    "import numpy as np"
   ]
  }
 ],
 "metadata": {
  "kernelspec": {
   "display_name": "Python 3",
   "language": "python",
   "name": "python3"
  },
  "language_info": {
   "codemirror_mode": {
    "name": "ipython",
    "version": 3
   },
   "file_extension": ".py",
   "mimetype": "text/x-python",
   "name": "python",
   "nbconvert_exporter": "python",
   "pygments_lexer": "ipython3",
   "version": "3.4.3"
  }
 },
 "nbformat": 4,
 "nbformat_minor": 0
}
